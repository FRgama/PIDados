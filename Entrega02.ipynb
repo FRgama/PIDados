{
  "nbformat": 4,
  "nbformat_minor": 0,
  "metadata": {
    "colab": {
      "provenance": [],
      "authorship_tag": "ABX9TyMglLjBNWeLBw7MEKM7z2ri",
      "include_colab_link": true
    },
    "kernelspec": {
      "name": "python3",
      "display_name": "Python 3"
    },
    "language_info": {
      "name": "python"
    }
  },
  "cells": [
    {
      "cell_type": "markdown",
      "metadata": {
        "id": "view-in-github",
        "colab_type": "text"
      },
      "source": [
        "<a href=\"https://colab.research.google.com/github/FRgama/PIDados/blob/main/Entrega02.ipynb\" target=\"_parent\"><img src=\"https://colab.research.google.com/assets/colab-badge.svg\" alt=\"Open In Colab\"/></a>"
      ]
    },
    {
      "cell_type": "code",
      "execution_count": 108,
      "metadata": {
        "colab": {
          "base_uri": "https://localhost:8080/"
        },
        "id": "6chTOPPFHr54",
        "outputId": "5fce8379-2fec-41f7-ff4a-ff15919dd1e1"
      },
      "outputs": [
        {
          "output_type": "stream",
          "name": "stdout",
          "text": [
            "Requirement already satisfied: python-bcb in /usr/local/lib/python3.11/dist-packages (0.3.2)\n",
            "Requirement already satisfied: httpx>=0.24.0 in /usr/local/lib/python3.11/dist-packages (from python-bcb) (0.28.1)\n",
            "Requirement already satisfied: lxml>=4.9.2 in /usr/local/lib/python3.11/dist-packages (from python-bcb) (5.3.1)\n",
            "Requirement already satisfied: pandas>=2.0.0 in /usr/local/lib/python3.11/dist-packages (from python-bcb) (2.2.2)\n",
            "Requirement already satisfied: requests>=2.31.0 in /usr/local/lib/python3.11/dist-packages (from python-bcb) (2.32.3)\n",
            "Requirement already satisfied: anyio in /usr/local/lib/python3.11/dist-packages (from httpx>=0.24.0->python-bcb) (4.9.0)\n",
            "Requirement already satisfied: certifi in /usr/local/lib/python3.11/dist-packages (from httpx>=0.24.0->python-bcb) (2025.1.31)\n",
            "Requirement already satisfied: httpcore==1.* in /usr/local/lib/python3.11/dist-packages (from httpx>=0.24.0->python-bcb) (1.0.7)\n",
            "Requirement already satisfied: idna in /usr/local/lib/python3.11/dist-packages (from httpx>=0.24.0->python-bcb) (3.10)\n",
            "Requirement already satisfied: h11<0.15,>=0.13 in /usr/local/lib/python3.11/dist-packages (from httpcore==1.*->httpx>=0.24.0->python-bcb) (0.14.0)\n",
            "Requirement already satisfied: numpy>=1.23.2 in /usr/local/lib/python3.11/dist-packages (from pandas>=2.0.0->python-bcb) (2.0.2)\n",
            "Requirement already satisfied: python-dateutil>=2.8.2 in /usr/local/lib/python3.11/dist-packages (from pandas>=2.0.0->python-bcb) (2.8.2)\n",
            "Requirement already satisfied: pytz>=2020.1 in /usr/local/lib/python3.11/dist-packages (from pandas>=2.0.0->python-bcb) (2025.2)\n",
            "Requirement already satisfied: tzdata>=2022.7 in /usr/local/lib/python3.11/dist-packages (from pandas>=2.0.0->python-bcb) (2025.2)\n",
            "Requirement already satisfied: charset-normalizer<4,>=2 in /usr/local/lib/python3.11/dist-packages (from requests>=2.31.0->python-bcb) (3.4.1)\n",
            "Requirement already satisfied: urllib3<3,>=1.21.1 in /usr/local/lib/python3.11/dist-packages (from requests>=2.31.0->python-bcb) (2.3.0)\n",
            "Requirement already satisfied: six>=1.5 in /usr/local/lib/python3.11/dist-packages (from python-dateutil>=2.8.2->pandas>=2.0.0->python-bcb) (1.17.0)\n",
            "Requirement already satisfied: sniffio>=1.1 in /usr/local/lib/python3.11/dist-packages (from anyio->httpx>=0.24.0->python-bcb) (1.3.1)\n",
            "Requirement already satisfied: typing_extensions>=4.5 in /usr/local/lib/python3.11/dist-packages (from anyio->httpx>=0.24.0->python-bcb) (4.13.0)\n"
          ]
        }
      ],
      "source": [
        "#Instruções de Entrega: Arquivo do COLAB com os scripts\n",
        "#Objetivo: PREPARAR OS DADOS\n",
        "#Selecionar os Dados\n",
        "#Limpar/ Uniformizar os dados\n",
        "#Derivar dados\n",
        "#Integrar os Dados\n",
        "#Formatar os Dados\n",
        "\n",
        "import pandas as pd\n",
        "!pip install python-bcb\n",
        "from bcb import sgs"
      ]
    },
    {
      "cell_type": "code",
      "source": [
        "#Selecionando Dados\n",
        "\n",
        "dfSelic = sgs.get({'Selic': 1178}, start='2020-01-01')\n",
        "dfSelic = pd.DataFrame(dfSelic)\n",
        "\n",
        "dfIpca = sgs.get({'Ipca': 4449}, start='2020-01-01')\n",
        "dfIpca = pd.DataFrame(dfIpca)\n",
        "\n",
        "dfSMin = sgs.get({'Salario_Minimo': 1619}, start='2020-01-01')\n",
        "dfSMin = pd.DataFrame(dfSMin)\n",
        "\n",
        "dfIgpm = sgs.get({'Igpm': 189}, start='2020-01-01')\n",
        "dfIgpm = pd.DataFrame(dfIgpm)\n",
        "\n",
        "dfInad = sgs.get({'Inadimplencia': 21082}, start='2020-01-01')\n",
        "dfInad = pd.DataFrame(dfInad)\n",
        "\n",
        "#Apresentando os dados\n",
        "print(dfSelic.tail())\n",
        "print(dfIpca.tail())\n",
        "print(dfSMin.tail())\n",
        "print(dfIgpm.tail())\n",
        "print(dfInad.tail())"
      ],
      "metadata": {
        "colab": {
          "base_uri": "https://localhost:8080/"
        },
        "id": "6pMg0is1Jdd1",
        "outputId": "4e474bc5-4f0a-4e94-ce27-8fca37c30d67"
      },
      "execution_count": 109,
      "outputs": [
        {
          "output_type": "stream",
          "name": "stdout",
          "text": [
            "            Selic\n",
            "Date             \n",
            "2025-03-31  14.15\n",
            "2025-04-01  14.15\n",
            "2025-04-02  14.15\n",
            "2025-04-03  14.15\n",
            "2025-04-04  14.15\n",
            "            Ipca\n",
            "Date            \n",
            "2024-10-01  0.71\n",
            "2024-11-01 -0.87\n",
            "2024-12-01 -0.17\n",
            "2025-01-01 -1.52\n",
            "2025-02-01  3.16\n",
            "            Salario_Minimo\n",
            "Date                      \n",
            "2024-11-01            1412\n",
            "2024-12-01            1412\n",
            "2025-01-01            1518\n",
            "2025-02-01            1518\n",
            "2025-03-01            1518\n",
            "            Igpm\n",
            "Date            \n",
            "2024-11-01  1.30\n",
            "2024-12-01  0.94\n",
            "2025-01-01  0.27\n",
            "2025-02-01  1.06\n",
            "2025-03-01 -0.34\n",
            "            Inadimplencia\n",
            "Date                     \n",
            "2024-09-01           3.21\n",
            "2024-10-01           3.17\n",
            "2024-11-01           3.14\n",
            "2024-12-01           2.93\n",
            "2025-01-01           3.17\n"
          ]
        }
      ]
    },
    {
      "cell_type": "code",
      "source": [
        "#limpando dados\n",
        "def verifica_nulo(df):\n",
        "  return print(df.isnull().sum())\n",
        "\n",
        "verifica_nulo(dfIpca)\n",
        "verifica_nulo(dfIgpm)\n",
        "verifica_nulo(dfInad)\n",
        "verifica_nulo(dfSMin)\n",
        "verifica_nulo(dfSelic)\n",
        "\n",
        "\n",
        "#Transformando o index em coluna\n",
        "\n",
        "\n",
        "def ajusteColunas(df, coluna_valor):\n",
        "  df = df.reset_index()\n",
        "\n",
        "  if df.columns[0] != 'Data':\n",
        "      df = df.rename(columns={df.columns[0]: 'Data'})\n",
        "\n",
        "  df = df.rename(columns={df.columns[1]: coluna_valor})\n",
        "  return df\n",
        "\n",
        "\n",
        "dfSelic = ajusteColunas(dfSelic, 'Selic')\n",
        "dfIpca = ajusteColunas(dfIpca, 'Ipca')\n",
        "dfSMin = ajusteColunas(dfSMin, 'Salario_Minimo')\n",
        "dfIgpm = ajusteColunas(dfIgpm, 'Igpm')\n",
        "dfInad = ajusteColunas(dfInad, 'Inadimplencia')\n",
        "\n",
        "#Apresentando os dados\n",
        "\n",
        "print(dfSelic.tail())"
      ],
      "metadata": {
        "colab": {
          "base_uri": "https://localhost:8080/"
        },
        "id": "sR5_Pue-Ks6D",
        "outputId": "06a6914e-98b4-407d-b7f5-6bc6fe15385b"
      },
      "execution_count": 110,
      "outputs": [
        {
          "output_type": "stream",
          "name": "stdout",
          "text": [
            "Ipca    0\n",
            "dtype: int64\n",
            "Igpm    0\n",
            "dtype: int64\n",
            "Inadimplencia    0\n",
            "dtype: int64\n",
            "Salario_Minimo    0\n",
            "dtype: int64\n",
            "Selic    0\n",
            "dtype: int64\n",
            "           Data  Selic\n",
            "1315 2025-03-31  14.15\n",
            "1316 2025-04-01  14.15\n",
            "1317 2025-04-02  14.15\n",
            "1318 2025-04-03  14.15\n",
            "1319 2025-04-04  14.15\n"
          ]
        }
      ]
    },
    {
      "cell_type": "code",
      "source": [
        "#Melhorando a apresentação das datas\n",
        "def ajusteData(df):\n",
        "  df['Data'] = df['Data'].dt.strftime('%d/%m/%Y')\n",
        "  return df\n",
        "\n",
        "dfSelic = ajusteData(dfSelic)\n",
        "dfIpca = ajusteData(dfIpca)\n",
        "dfSMin = ajusteData(dfSMin)\n",
        "dfIgpm = ajusteData(dfIgpm)\n",
        "dfInad = ajusteData(dfInad)\n",
        "\n"
      ],
      "metadata": {
        "id": "xzBZ5rV-PSpS"
      },
      "execution_count": 111,
      "outputs": []
    },
    {
      "cell_type": "code",
      "source": [
        "#Transformando a taxa selic em um grafico mensal (atualmente está diario)\n",
        "dfSelic['Data'] = pd.to_datetime(dfSelic['Data'], dayfirst=True)\n",
        "dfSelic = dfSelic.set_index('Data')\n",
        "dfSelic_mensal = dfSelic.resample('MS').first().reset_index()\n",
        "dfSelic = dfSelic_mensal\n",
        "\n",
        "dfSelic = ajusteData(dfSelic)\n",
        "\n",
        "#Apresentando os dados\n",
        "print(dfSelic.tail())\n",
        "print(dfIpca.tail())\n",
        "print(dfSMin.tail())\n",
        "print(dfIgpm.tail())\n",
        "print(dfInad.tail())"
      ],
      "metadata": {
        "colab": {
          "base_uri": "https://localhost:8080/"
        },
        "id": "hztczKU-epHD",
        "outputId": "448f680c-aa7b-4a3b-ccf1-63891713917b"
      },
      "execution_count": 112,
      "outputs": [
        {
          "output_type": "stream",
          "name": "stdout",
          "text": [
            "          Data  Selic\n",
            "59  01/12/2024  11.15\n",
            "60  01/01/2025  12.15\n",
            "61  01/02/2025  13.15\n",
            "62  01/03/2025  13.15\n",
            "63  01/04/2025  14.15\n",
            "          Data  Ipca\n",
            "57  01/10/2024  0.71\n",
            "58  01/11/2024 -0.87\n",
            "59  01/12/2024 -0.17\n",
            "60  01/01/2025 -1.52\n",
            "61  01/02/2025  3.16\n",
            "          Data  Salario_Minimo\n",
            "58  01/11/2024            1412\n",
            "59  01/12/2024            1412\n",
            "60  01/01/2025            1518\n",
            "61  01/02/2025            1518\n",
            "62  01/03/2025            1518\n",
            "          Data  Igpm\n",
            "58  01/11/2024  1.30\n",
            "59  01/12/2024  0.94\n",
            "60  01/01/2025  0.27\n",
            "61  01/02/2025  1.06\n",
            "62  01/03/2025 -0.34\n",
            "          Data  Inadimplencia\n",
            "56  01/09/2024           3.21\n",
            "57  01/10/2024           3.17\n",
            "58  01/11/2024           3.14\n",
            "59  01/12/2024           2.93\n",
            "60  01/01/2025           3.17\n"
          ]
        }
      ]
    },
    {
      "cell_type": "code",
      "source": [
        "#Derivando dados\n",
        "\n",
        "#Adicionando variação nos indices\n",
        "def variacao(df, coluna_valor):\n",
        "  df['Variação'] = df[coluna_valor].pct_change() * 100\n",
        "  return df\n",
        "\n",
        "dfSelic = variacao(dfSelic, 'Selic')\n",
        "dfIpca = variacao(dfIpca, 'Ipca')\n",
        "dfSMin = variacao(dfSMin, 'Salario_Minimo')\n",
        "dfIgpm = variacao(dfIgpm, 'Igpm')\n",
        "dfInad = variacao(dfInad, 'Inadimplencia')\n",
        "\n",
        "#Apresentando os dados\n",
        "print(dfSelic.tail())\n",
        "print(dfIpca.tail())\n",
        "print(dfSMin.tail())\n",
        "print(dfIgpm.tail())\n",
        "print(dfInad.tail())"
      ],
      "metadata": {
        "colab": {
          "base_uri": "https://localhost:8080/"
        },
        "id": "3-KatvuFmfoX",
        "outputId": "70664e58-2f24-42df-b6b6-95156d187764"
      },
      "execution_count": 113,
      "outputs": [
        {
          "output_type": "stream",
          "name": "stdout",
          "text": [
            "          Data  Selic  Variação\n",
            "59  01/12/2024  11.15  4.694836\n",
            "60  01/01/2025  12.15  8.968610\n",
            "61  01/02/2025  13.15  8.230453\n",
            "62  01/03/2025  13.15  0.000000\n",
            "63  01/04/2025  14.15  7.604563\n",
            "          Data  Ipca    Variação\n",
            "57  01/10/2024  0.71  -29.702970\n",
            "58  01/11/2024 -0.87 -222.535211\n",
            "59  01/12/2024 -0.17  -80.459770\n",
            "60  01/01/2025 -1.52  794.117647\n",
            "61  01/02/2025  3.16 -307.894737\n",
            "          Data  Salario_Minimo  Variação\n",
            "58  01/11/2024            1412  0.000000\n",
            "59  01/12/2024            1412  0.000000\n",
            "60  01/01/2025            1518  7.507082\n",
            "61  01/02/2025            1518  0.000000\n",
            "62  01/03/2025            1518  0.000000\n",
            "          Data  Igpm    Variação\n",
            "58  01/11/2024  1.30  -14.473684\n",
            "59  01/12/2024  0.94  -27.692308\n",
            "60  01/01/2025  0.27  -71.276596\n",
            "61  01/02/2025  1.06  292.592593\n",
            "62  01/03/2025 -0.34 -132.075472\n",
            "          Data  Inadimplencia  Variação\n",
            "56  01/09/2024           3.21  0.000000\n",
            "57  01/10/2024           3.17 -1.246106\n",
            "58  01/11/2024           3.14 -0.946372\n",
            "59  01/12/2024           2.93 -6.687898\n",
            "60  01/01/2025           3.17  8.191126\n"
          ]
        }
      ]
    },
    {
      "cell_type": "code",
      "source": [
        "#Deixando os nomes das variações unicos\n",
        "\n",
        "dfSelic = dfSelic.rename(columns={'Variação': 'Variacao_Selic'})\n",
        "dfIpca = dfIpca.rename(columns={'Variação': 'Variacao_Ipca'})\n",
        "dfSMin = dfSMin.rename(columns={'Variação': 'Variacao_Salario'})\n",
        "dfIgpm = dfIgpm.rename(columns={'Variação': 'Variacao_Igpm'})\n",
        "dfInad = dfInad.rename(columns={'Variação': 'Variacao_Inad'})\n",
        "\n",
        "#Integrando dados pelas datas\n",
        "df_geral = dfSelic.merge(dfIpca, on='Data', how='inner')\\\n",
        "                  .merge(dfSMin, on='Data', how='inner')\\\n",
        "                  .merge(dfIgpm, on='Data', how='inner')\\\n",
        "                  .merge(dfInad, on='Data', how='inner')\n",
        "\n",
        "#criando comparações com os indicadores\n",
        "\n",
        "#Salario minimo corrigido pela inflação, indicada no ipca\n",
        "df_geral['Salario_Real'] = df_geral['Salario_Minimo'] / (1 + df_geral['Ipca'] / 100)\n",
        "#Comparação entre o igpm e o ipca\n",
        "df_geral['Diferenca_Inflacao'] = df_geral['Igpm'] - df_geral['Ipca']\n",
        "\n"
      ],
      "metadata": {
        "id": "VHrQATDItXsk"
      },
      "execution_count": 114,
      "outputs": []
    },
    {
      "cell_type": "code",
      "source": [
        "df_indicadores = df_geral[['Data', 'Salario_Real', 'Diferenca_Inflacao']]\n",
        "print(df_indicadores.tail())"
      ],
      "metadata": {
        "colab": {
          "base_uri": "https://localhost:8080/"
        },
        "id": "CQlda8gD1Mut",
        "outputId": "481007dc-142c-4c24-f9dd-822d1b3ed057"
      },
      "execution_count": 115,
      "outputs": [
        {
          "output_type": "stream",
          "name": "stdout",
          "text": [
            "          Data  Salario_Real  Diferenca_Inflacao\n",
            "56  01/09/2024   1397.881398               -0.39\n",
            "57  01/10/2024   1402.045477                0.81\n",
            "58  01/11/2024   1424.392212                2.17\n",
            "59  01/12/2024   1414.404488                1.11\n",
            "60  01/01/2025   1541.429732                1.79\n"
          ]
        }
      ]
    },
    {
      "cell_type": "code",
      "source": [
        "#Formatar dados\n",
        "\n",
        "#Arredondando as colunas de variação para dois digitos após a vírgula\n",
        "def arredondarColuna(df, nome_coluna, casas_decimais=2):\n",
        "    df[nome_coluna] = df[nome_coluna].round(casas_decimais)\n",
        "    return df\n",
        "\n",
        "df_indicadores = arredondarColuna(df_indicadores, 'Salario_Real')\n",
        "df_indicadores = arredondarColuna(df_indicadores, 'Diferenca_Inflacao')\n",
        "dfSelic = arredondarColuna(dfSelic, 'Variacao_Selic')\n",
        "dfIpca = arredondarColuna(dfIpca, 'Variacao_Ipca')\n",
        "dfSMin = arredondarColuna(dfSMin, 'Variacao_Salario')\n",
        "dfIgpm = arredondarColuna(dfIgpm, 'Variacao_Igpm')\n",
        "dfInad = arredondarColuna(dfInad, 'Variacao_Inad')\n",
        "\n",
        "\n",
        "print(dfSelic.tail())\n",
        "print(dfIpca.tail())\n",
        "print(dfSMin.tail())\n",
        "print(dfIgpm.tail())\n",
        "print(dfInad.tail())\n",
        "print(df_indicadores.tail())"
      ],
      "metadata": {
        "colab": {
          "base_uri": "https://localhost:8080/"
        },
        "id": "D-jgzFzC276c",
        "outputId": "5b675ec0-5ee6-4e6a-f78a-0f407602905b"
      },
      "execution_count": 117,
      "outputs": [
        {
          "output_type": "stream",
          "name": "stdout",
          "text": [
            "          Data  Selic  Variacao_Selic\n",
            "59  01/12/2024  11.15            4.69\n",
            "60  01/01/2025  12.15            8.97\n",
            "61  01/02/2025  13.15            8.23\n",
            "62  01/03/2025  13.15            0.00\n",
            "63  01/04/2025  14.15            7.60\n",
            "          Data  Ipca  Variacao_Ipca\n",
            "57  01/10/2024  0.71         -29.70\n",
            "58  01/11/2024 -0.87        -222.54\n",
            "59  01/12/2024 -0.17         -80.46\n",
            "60  01/01/2025 -1.52         794.12\n",
            "61  01/02/2025  3.16        -307.89\n",
            "          Data  Salario_Minimo  Variacao_Salario\n",
            "58  01/11/2024            1412              0.00\n",
            "59  01/12/2024            1412              0.00\n",
            "60  01/01/2025            1518              7.51\n",
            "61  01/02/2025            1518              0.00\n",
            "62  01/03/2025            1518              0.00\n",
            "          Data  Igpm  Variacao_Igpm\n",
            "58  01/11/2024  1.30         -14.47\n",
            "59  01/12/2024  0.94         -27.69\n",
            "60  01/01/2025  0.27         -71.28\n",
            "61  01/02/2025  1.06         292.59\n",
            "62  01/03/2025 -0.34        -132.08\n",
            "          Data  Inadimplencia  Variacao_Inad\n",
            "56  01/09/2024           3.21           0.00\n",
            "57  01/10/2024           3.17          -1.25\n",
            "58  01/11/2024           3.14          -0.95\n",
            "59  01/12/2024           2.93          -6.69\n",
            "60  01/01/2025           3.17           8.19\n",
            "          Data  Salario_Real  Diferenca_Inflacao\n",
            "56  01/09/2024       1397.88               -0.39\n",
            "57  01/10/2024       1402.05                0.81\n",
            "58  01/11/2024       1424.39                2.17\n",
            "59  01/12/2024       1414.40                1.11\n",
            "60  01/01/2025       1541.43                1.79\n"
          ]
        },
        {
          "output_type": "stream",
          "name": "stderr",
          "text": [
            "<ipython-input-117-5f86146d59e3>:5: SettingWithCopyWarning: \n",
            "A value is trying to be set on a copy of a slice from a DataFrame.\n",
            "Try using .loc[row_indexer,col_indexer] = value instead\n",
            "\n",
            "See the caveats in the documentation: https://pandas.pydata.org/pandas-docs/stable/user_guide/indexing.html#returning-a-view-versus-a-copy\n",
            "  df[nome_coluna] = df[nome_coluna].round(casas_decimais)\n"
          ]
        }
      ]
    },
    {
      "cell_type": "code",
      "source": [],
      "metadata": {
        "id": "O4eiVDcg5pjT"
      },
      "execution_count": 116,
      "outputs": []
    }
  ]
}